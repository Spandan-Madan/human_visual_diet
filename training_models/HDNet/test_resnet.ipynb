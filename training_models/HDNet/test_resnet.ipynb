{
 "cells": [
  {
   "cell_type": "code",
   "execution_count": 1,
   "id": "d944dbe0-9631-4b8c-b614-f99281eedc7a",
   "metadata": {},
   "outputs": [],
   "source": [
    "import torch"
   ]
  },
  {
   "cell_type": "code",
   "execution_count": 4,
   "id": "2ed3bfec-2ecf-4e5f-bd30-0156992573a7",
   "metadata": {},
   "outputs": [],
   "source": [
    "model_path = 'v3_output/resnet_5_style_hotswapped_material_50/checkpoint_18.tar'"
   ]
  },
  {
   "cell_type": "code",
   "execution_count": 5,
   "id": "03e49bb5-edc4-4e03-b7ed-f2870c8a33f7",
   "metadata": {},
   "outputs": [],
   "source": [
    "model = torch.load(model_path)"
   ]
  },
  {
   "cell_type": "code",
   "execution_count": null,
   "id": "6cf5c39b-7c78-40c7-9863-9b56f518adfc",
   "metadata": {},
   "outputs": [],
   "source": []
  }
 ],
 "metadata": {
  "kernelspec": {
   "display_name": "domain_adaptation",
   "language": "python",
   "name": "domain_adaptation"
  },
  "language_info": {
   "codemirror_mode": {
    "name": "ipython",
    "version": 3
   },
   "file_extension": ".py",
   "mimetype": "text/x-python",
   "name": "python",
   "nbconvert_exporter": "python",
   "pygments_lexer": "ipython3",
   "version": "3.8.11"
  }
 },
 "nbformat": 4,
 "nbformat_minor": 5
}
