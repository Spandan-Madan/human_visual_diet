{
 "cells": [
  {
   "cell_type": "code",
   "execution_count": 6,
   "metadata": {},
   "outputs": [],
   "source": [
    "# viewpoint_2_json = '../openrooms/annotation_files/train_main_viewpoints_'"
   ]
  },
  {
   "cell_type": "code",
   "execution_count": 19,
   "metadata": {},
   "outputs": [],
   "source": [
    "import pickle\n",
    "\n",
    "import json\n",
    "import random\n",
    "from tqdm import tqdm\n",
    "\n",
    "with open('../openrooms/annotation_files/train_main_viewpoints_0_1_v3.json','r') as F:\n",
    "    train_annotations = json.load(F)\n",
    "\n",
    "with open('core/image_paths_to_annots.p','rb') as F:\n",
    "    image_paths_to_annots = pickle.load(F)"
   ]
  },
  {
   "cell_type": "code",
   "execution_count": 20,
   "metadata": {},
   "outputs": [],
   "source": [
    "# possible_material_folders = []\n",
    "# for im_path in image_paths_to_annots.keys():\n",
    "#     possible_material_folders.append(im_path.split('/')[2])\n",
    "# possible_material_folders = list(set(possible_material_folders))\n",
    "\n",
    "# per_mat_folder_match = {}\n",
    "\n",
    "# all_potential_keys = list(image_paths_to_annots.keys())\n",
    "\n",
    "# for annot_id in tqdm(range(len(train_annotations['annotations']))):\n",
    "#     annot = train_annotations['annotations'][annot_id]\n",
    "#     annot_image = train_annotations['images'][annot['image_id']]['file_name']\n",
    "#     annot_category = annot['category_id']\n",
    "    \n",
    "#     ##################\n",
    "#     per_mat_folder_match[annot_id] = {} \n",
    "#     random.shuffle(all_potential_keys)\n",
    "#     for im_path in all_potential_keys:\n",
    "#         if im_path == annot_image:\n",
    "#             continue\n",
    "#         im_material_folder = im_path.split('/')[2]\n",
    "#         if im_material_folder in per_mat_folder_match[annot_id].keys():\n",
    "#             continue\n",
    "#         else:\n",
    "#             im_annots = image_paths_to_annots[im_path]\n",
    "#             random.shuffle(im_annots)\n",
    "#             for im_annot in im_annots:\n",
    "#                 if im_annot['category_id'] == annot_category:\n",
    "#                     per_mat_folder_match[annot_id][im_material_folder] = [im_path, im_annot]\n",
    "#     if len(per_mat_folder_match[annot_id].keys()) < 2:\n",
    "#         print(annot_id)"
   ]
  },
  {
   "cell_type": "code",
   "execution_count": 21,
   "metadata": {},
   "outputs": [],
   "source": [
    "with open('../WhenPigsFlyContext/core/viewpoint_images_to_annotations.p','rb') as F:\n",
    "    viewpoint_images_to_annotations = pickle.load(F)"
   ]
  },
  {
   "cell_type": "code",
   "execution_count": 22,
   "metadata": {},
   "outputs": [],
   "source": [
    "with open('../WhenPigsFlyContext/core/chunk_to_file_names.p','rb') as F:\n",
    "    chunk_to_file_names = pickle.load(F)"
   ]
  },
  {
   "cell_type": "code",
   "execution_count": 23,
   "metadata": {},
   "outputs": [],
   "source": [
    "from tqdm import tqdm"
   ]
  },
  {
   "cell_type": "code",
   "execution_count": 52,
   "metadata": {},
   "outputs": [
    {
     "name": "stdout",
     "output_type": "stream",
     "text": [
      "2\n"
     ]
    },
    {
     "name": "stderr",
     "output_type": "stream",
     "text": [
      "100%|██████████| 54867/54867 [02:57<00:00, 309.46it/s]\n"
     ]
    },
    {
     "name": "stdout",
     "output_type": "stream",
     "text": [
      "3\n"
     ]
    },
    {
     "name": "stderr",
     "output_type": "stream",
     "text": [
      "100%|██████████| 54867/54867 [02:58<00:00, 307.70it/s]\n"
     ]
    },
    {
     "name": "stdout",
     "output_type": "stream",
     "text": [
      "4\n"
     ]
    },
    {
     "name": "stderr",
     "output_type": "stream",
     "text": [
      "100%|██████████| 54867/54867 [02:57<00:00, 309.00it/s]\n"
     ]
    }
   ],
   "source": [
    "per_chunk_folder_match = {}\n",
    "for chunk_num in range(2,5):\n",
    "    print(chunk_num)\n",
    "    chunk_file_names = chunk_to_file_names[chunk_num]\n",
    "    \n",
    "    for annot_id in tqdm(range(len(train_annotations['annotations']))):\n",
    "        if not annot_id in per_chunk_folder_match.keys():\n",
    "            per_chunk_folder_match[annot_id] = {}\n",
    "        chunk_annot_found = False\n",
    "        random.shuffle(chunk_file_names)\n",
    "        \n",
    "        annot = train_annotations['annotations'][annot_id]\n",
    "        annot_image = train_annotations['images'][annot['image_id']]['file_name']\n",
    "        \n",
    "        for chunk_file_name in chunk_file_names:\n",
    "            if not chunk_annot_found:\n",
    "                if chunk_file_name in viewpoint_images_to_annotations.keys():\n",
    "                    chunk_file_annotations = viewpoint_images_to_annotations[chunk_file_name]\n",
    "                    for im_annot in chunk_file_annotations:\n",
    "                        if not chunk_annot_found:\n",
    "                            if im_annot['category_id'] == annot['category_id']:\n",
    "                                per_chunk_folder_match[annot_id][chunk_num] = [chunk_file_name, im_annot]\n",
    "                                chunk_annot_found = True"
   ]
  },
  {
   "cell_type": "code",
   "execution_count": 53,
   "metadata": {},
   "outputs": [
    {
     "data": {
      "text/plain": [
       "{2: ['openrooms/all_openrooms/main_xml//scene0353_00/im_17.png',\n",
       "  {'area': 12726,\n",
       "   'iscrowd': 0,\n",
       "   'image_id': 5797,\n",
       "   'id': 5797,\n",
       "   'category_id': 1,\n",
       "   'bbox': [0, 278, 63, 202]}],\n",
       " 3: ['openrooms/all_openrooms/main_xml//scene0057_00/im_8.png',\n",
       "  {'area': 11169,\n",
       "   'iscrowd': 0,\n",
       "   'image_id': 2408,\n",
       "   'id': 2408,\n",
       "   'category_id': 1,\n",
       "   'bbox': [248, 429, 219, 51]}],\n",
       " 4: ['openrooms/all_openrooms/main_xml//scene0324_00/im_12.png',\n",
       "  {'area': 103659,\n",
       "   'iscrowd': 0,\n",
       "   'image_id': 3034,\n",
       "   'id': 3034,\n",
       "   'category_id': 1,\n",
       "   'bbox': [3, 153, 317, 327]}]}"
      ]
     },
     "execution_count": 53,
     "metadata": {},
     "output_type": "execute_result"
    }
   ],
   "source": [
    "per_chunk_folder_match[9]"
   ]
  },
  {
   "cell_type": "code",
   "execution_count": 54,
   "metadata": {},
   "outputs": [],
   "source": [
    "import pickle"
   ]
  },
  {
   "cell_type": "code",
   "execution_count": 63,
   "metadata": {},
   "outputs": [],
   "source": [
    "with open('core/per_mat_folder_matched_annotations.p','rb') as F:\n",
    "    per_mat_folder_match = pickle.load(F)"
   ]
  },
  {
   "cell_type": "code",
   "execution_count": 64,
   "metadata": {},
   "outputs": [],
   "source": [
    "for key in per_mat_folder_match.keys():\n",
    "    per_mat_folder_match[key]['main_xml_viewpoint_2'] = per_chunk_folder_match[key][2]\n",
    "    per_mat_folder_match[key]['main_xml_viewpoint_3'] = per_chunk_folder_match[key][3]\n",
    "    per_mat_folder_match[key]['main_xml_viewpoint_4'] = per_chunk_folder_match[key][4]"
   ]
  },
  {
   "cell_type": "code",
   "execution_count": 65,
   "metadata": {},
   "outputs": [],
   "source": [
    "with open('core/per_mat_folder_matched_annotations_full.p','wb') as F:\n",
    "    pickle.dump(per_mat_folder_match,F)"
   ]
  },
  {
   "cell_type": "code",
   "execution_count": null,
   "metadata": {},
   "outputs": [],
   "source": []
  }
 ],
 "metadata": {
  "kernelspec": {
   "display_name": "domain_adaptation",
   "language": "python",
   "name": "domain_adaptation"
  },
  "language_info": {
   "codemirror_mode": {
    "name": "ipython",
    "version": 3
   },
   "file_extension": ".py",
   "mimetype": "text/x-python",
   "name": "python",
   "nbconvert_exporter": "python",
   "pygments_lexer": "ipython3",
   "version": "3.8.11"
  }
 },
 "nbformat": 4,
 "nbformat_minor": 4
}
