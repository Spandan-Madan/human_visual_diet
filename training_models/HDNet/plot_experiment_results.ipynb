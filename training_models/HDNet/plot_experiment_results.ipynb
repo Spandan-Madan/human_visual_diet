{
 "cells": [
  {
   "cell_type": "code",
   "execution_count": 1,
   "metadata": {},
   "outputs": [],
   "source": [
    "import os\n",
    "import json"
   ]
  },
  {
   "cell_type": "code",
   "execution_count": 2,
   "metadata": {},
   "outputs": [],
   "source": [
    "exp_path = 'output_openrooms/'"
   ]
  },
  {
   "cell_type": "code",
   "execution_count": 3,
   "metadata": {},
   "outputs": [],
   "source": [
    "def exp_accuracy(exp_folder,phase, print_epoch = 100):\n",
    "    results_dir = \"%s/%s\"%(exp_path,exp_folder)\n",
    "    \n",
    "    if phase == 'train':\n",
    "        acc_files = [i for i in os.listdir(results_dir) if '%s_accuracies_epoch'%phase in i]\n",
    "\n",
    "        max_epoch = 0\n",
    "        for f in acc_files:\n",
    "            epoch_num = int(f.split('_')[-1].split('.json')[0])\n",
    "            if epoch_num > max_epoch and epoch_num <= print_epoch:\n",
    "                max_epoch = epoch_num\n",
    "                best_acc_file = f\n",
    "    else:\n",
    "        best_acc_file = \"%s_accuracies.json\"%phase\n",
    "        max_epoch = 'N/A'\n",
    "    best_acc_path = \"%s/%s\"%(results_dir, best_acc_file)\n",
    "    \n",
    "\n",
    "\n",
    "\n",
    "    with open(best_acc_path, 'r') as F:\n",
    "        best_acc_json = json.load(F)\n",
    "    total_acc = best_acc_json['total_accuracy']\n",
    "    return total_acc, max_epoch"
   ]
  },
  {
   "cell_type": "code",
   "execution_count": 4,
   "metadata": {},
   "outputs": [],
   "source": [
    "def dict_to_table(d):\n",
    "    print(\"_\"*46)\n",
    "    print(\"|{:<30} | {:11}|\".format('Arch','Acc (Epoch)'))\n",
    "    print(\"_\"*46)\n",
    "    print('')\n",
    "    for key in sorted(d.keys()):\n",
    "        print(\"|{:<30} | {:11}|\".format(key,d[key]))\n",
    "    print(\"_\"*46)"
   ]
  },
  {
   "cell_type": "markdown",
   "metadata": {},
   "source": [
    "# Detection Task"
   ]
  },
  {
   "cell_type": "code",
   "execution_count": 5,
   "metadata": {},
   "outputs": [],
   "source": [
    "exp_folders = [i for i in os.listdir(exp_path) if 'style_training' in i and 'lift' not in i]"
   ]
  },
  {
   "cell_type": "markdown",
   "metadata": {},
   "source": [
    "### Train accuracy"
   ]
  },
  {
   "cell_type": "code",
   "execution_count": 6,
   "metadata": {},
   "outputs": [],
   "source": [
    "train_accuracies = {}\n",
    "for fol in sorted(exp_folders):\n",
    "    train_acc, max_epochs = exp_accuracy(fol, 'train', 20)\n",
    "    train_accuracies[fol] = \"%.02f (%s)\"%(train_acc, max_epochs)"
   ]
  },
  {
   "cell_type": "code",
   "execution_count": 7,
   "metadata": {},
   "outputs": [
    {
     "name": "stdout",
     "output_type": "stream",
     "text": [
      "______________________________________________\n",
      "|Arch                           | Acc (Epoch)|\n",
      "______________________________________________\n",
      "\n",
      "|style_training_1               | 0.81 (14)  |\n",
      "|style_training_1_contrastive   | 0.82 (20)  |\n",
      "|style_training_1_contrastive_repeat | 0.81 (20)  |\n",
      "|style_training_1_repeat        | 0.83 (20)  |\n",
      "|style_training_2               | 0.77 (14)  |\n",
      "|style_training_2_contrastive   | 0.74 (14)  |\n",
      "|style_training_4               | 0.76 (14)  |\n",
      "|style_training_4_contrastive   | 0.72 (14)  |\n",
      "|style_training_8               | 0.73 (13)  |\n",
      "|style_training_8_contrastive   | 0.71 (14)  |\n",
      "|style_training_8_contrastive_domain_B | 0.70 (13)  |\n",
      "|style_training_8_contrastive_edges | 0.70 (14)  |\n",
      "|style_training_8_contrastive_places | 0.66 (11)  |\n",
      "______________________________________________\n"
     ]
    }
   ],
   "source": [
    "dict_to_table(train_accuracies)"
   ]
  },
  {
   "cell_type": "markdown",
   "metadata": {},
   "source": [
    "### Test on Domain A and B"
   ]
  },
  {
   "cell_type": "code",
   "execution_count": 9,
   "metadata": {},
   "outputs": [
    {
     "data": {
      "text/plain": [
       "['style_training_8_contrastive_domain_B',\n",
       " 'style_training_8_contrastive_edges',\n",
       " 'style_training_8_contrastive_places',\n",
       " 'style_training_2_contrastive',\n",
       " 'style_training_4_contrastive',\n",
       " 'style_training_1_contrastive',\n",
       " 'style_training_1',\n",
       " 'style_training_8_contrastive',\n",
       " 'style_training_4',\n",
       " 'style_training_8',\n",
       " 'style_training_2',\n",
       " 'style_training_1_repeat',\n",
       " 'style_training_1_contrastive_repeat']"
      ]
     },
     "execution_count": 9,
     "metadata": {},
     "output_type": "execute_result"
    }
   ],
   "source": [
    "exp_folders"
   ]
  },
  {
   "cell_type": "code",
   "execution_count": 10,
   "metadata": {},
   "outputs": [],
   "source": [
    "test_domain_A_accuracies = {}\n",
    "for fol in sorted(exp_folders):\n",
    "    try:\n",
    "        test_acc_A, max_epochs = exp_accuracy(fol, 'test_domain_A', 20)\n",
    "        test_domain_A_accuracies[fol] = \"%.02f (%s)\"%(test_acc_A, max_epochs)\n",
    "    except:\n",
    "        pass"
   ]
  },
  {
   "cell_type": "code",
   "execution_count": 11,
   "metadata": {},
   "outputs": [
    {
     "name": "stdout",
     "output_type": "stream",
     "text": [
      "______________________________________________\n",
      "|Arch                           | Acc (Epoch)|\n",
      "______________________________________________\n",
      "\n",
      "|style_training_1               | 0.75 (N/A) |\n",
      "|style_training_1_contrastive   | 0.73 (N/A) |\n",
      "|style_training_2               | 0.76 (N/A) |\n",
      "|style_training_2_contrastive   | 0.74 (N/A) |\n",
      "|style_training_4               | 0.76 (N/A) |\n",
      "|style_training_4_contrastive   | 0.75 (N/A) |\n",
      "|style_training_8               | 0.75 (N/A) |\n",
      "|style_training_8_contrastive   | 0.73 (N/A) |\n",
      "______________________________________________\n"
     ]
    }
   ],
   "source": [
    "dict_to_table(test_domain_A_accuracies)"
   ]
  },
  {
   "cell_type": "code",
   "execution_count": 12,
   "metadata": {},
   "outputs": [],
   "source": [
    "test_domain_B_accuracies = {}\n",
    "for fol in sorted(exp_folders):\n",
    "    test_acc_B, max_epochs = exp_accuracy(fol, 'test_domain_B', 20)\n",
    "    test_domain_B_accuracies[fol] = \"%.02f (%s)\"%(test_acc_B, max_epochs)"
   ]
  },
  {
   "cell_type": "code",
   "execution_count": 13,
   "metadata": {},
   "outputs": [
    {
     "name": "stdout",
     "output_type": "stream",
     "text": [
      "______________________________________________\n",
      "|Arch                           | Acc (Epoch)|\n",
      "______________________________________________\n",
      "\n",
      "|style_training_1               | 0.35 (N/A) |\n",
      "|style_training_1_contrastive   | 0.37 (N/A) |\n",
      "|style_training_1_contrastive_repeat | 0.35 (N/A) |\n",
      "|style_training_1_repeat        | 0.37 (N/A) |\n",
      "|style_training_2               | 0.41 (N/A) |\n",
      "|style_training_2_contrastive   | 0.41 (N/A) |\n",
      "|style_training_4               | 0.42 (N/A) |\n",
      "|style_training_4_contrastive   | 0.45 (N/A) |\n",
      "|style_training_8               | 0.42 (N/A) |\n",
      "|style_training_8_contrastive   | 0.44 (N/A) |\n",
      "|style_training_8_contrastive_domain_B | 0.43 (N/A) |\n",
      "|style_training_8_contrastive_edges | 0.44 (N/A) |\n",
      "|style_training_8_contrastive_places | 0.43 (N/A) |\n",
      "______________________________________________\n"
     ]
    }
   ],
   "source": [
    "dict_to_table(test_domain_B_accuracies)"
   ]
  },
  {
   "cell_type": "markdown",
   "metadata": {},
   "source": [
    "## Test on real data"
   ]
  },
  {
   "cell_type": "code",
   "execution_count": null,
   "metadata": {},
   "outputs": [],
   "source": [
    "test_real_accuracies = {}\n",
    "for fol in sorted(exp_folders):\n",
    "    test_acc, max_epochs = exp_accuracy(fol, 'test_real', 20)\n",
    "    test_real_accuracies[fol] = \"%.02f (%s)\"%(test_acc, max_epochs)"
   ]
  },
  {
   "cell_type": "code",
   "execution_count": null,
   "metadata": {},
   "outputs": [],
   "source": [
    "dict_to_table(test_real_accuracies)"
   ]
  },
  {
   "cell_type": "markdown",
   "metadata": {},
   "source": [
    "### Test on scannet style version of Domain A"
   ]
  },
  {
   "cell_type": "code",
   "execution_count": null,
   "metadata": {},
   "outputs": [],
   "source": [
    "test_scannet_domain_A = {}\n",
    "for fol in sorted(exp_folders):\n",
    "    test_acc, max_epochs = exp_accuracy(fol, 'test_scannet_style', 20)\n",
    "    test_scannet_domain_A[fol] = \"%.02f (%s)\"%(test_acc, max_epochs)"
   ]
  },
  {
   "cell_type": "code",
   "execution_count": null,
   "metadata": {},
   "outputs": [],
   "source": [
    "dict_to_table(test_scannet_domain_A)"
   ]
  },
  {
   "cell_type": "markdown",
   "metadata": {},
   "source": [
    "### Test on scannet style version of Domain B"
   ]
  },
  {
   "cell_type": "code",
   "execution_count": null,
   "metadata": {},
   "outputs": [],
   "source": [
    "test_scannet_domain_B = {}\n",
    "for fol in sorted(exp_folders):\n",
    "    test_acc, max_epochs = exp_accuracy(fol, 'test_scannet_style_B', 20)\n",
    "    test_scannet_domain_B[fol] = \"%.02f (%s)\"%(test_acc, max_epochs)"
   ]
  },
  {
   "cell_type": "code",
   "execution_count": null,
   "metadata": {},
   "outputs": [],
   "source": [
    "dict_to_table(test_scannet_domain_B)"
   ]
  },
  {
   "cell_type": "markdown",
   "metadata": {},
   "source": [
    "# Lift the flap task"
   ]
  },
  {
   "cell_type": "code",
   "execution_count": null,
   "metadata": {},
   "outputs": [],
   "source": [
    "flap_exp_folders = [i for i in os.listdir(exp_path) if 'style_training' in i and 'lift' in i]"
   ]
  },
  {
   "cell_type": "markdown",
   "metadata": {},
   "source": [
    "### Train Accuracies"
   ]
  },
  {
   "cell_type": "code",
   "execution_count": 20,
   "metadata": {},
   "outputs": [
    {
     "name": "stdout",
     "output_type": "stream",
     "text": [
      "______________________________________________\n",
      "|Arch                           | Acc (Epoch)|\n",
      "______________________________________________\n",
      "\n",
      "|style_training_1_contrastive_lift_the_flap | 0.44 (16)  |\n",
      "|style_training_1_lift_the_flap | 0.48 (16)  |\n",
      "|style_training_2_contrastive_lift_the_flap | 0.43 (15)  |\n",
      "|style_training_2_lift_the_flap | 0.45 (15)  |\n",
      "|style_training_4_contrastive_lift_the_flap | 0.44 (15)  |\n",
      "|style_training_4_lift_the_flap | 0.44 (14)  |\n",
      "|style_training_8_contrastive_lift_the_flap | 0.42 (14)  |\n",
      "|style_training_8_lift_the_flap | 0.47 (14)  |\n",
      "______________________________________________\n"
     ]
    }
   ],
   "source": [
    "flap_train_accuracies = {}\n",
    "for fol in sorted(flap_exp_folders):\n",
    "    train_acc, max_epochs = exp_accuracy(fol, 'train', 20)\n",
    "    flap_train_accuracies[fol] = \"%.02f (%s)\"%(train_acc, max_epochs)\n",
    "    \n",
    "dict_to_table(flap_train_accuracies)"
   ]
  },
  {
   "cell_type": "markdown",
   "metadata": {},
   "source": [
    "### Test domain A and B"
   ]
  },
  {
   "cell_type": "code",
   "execution_count": 21,
   "metadata": {},
   "outputs": [],
   "source": [
    "test_domain_A_accuracies = {}\n",
    "for fol in sorted(flap_exp_folders):\n",
    "    test_acc_A, max_epochs = exp_accuracy(fol, 'test_domain_A', 20)\n",
    "    test_domain_A_accuracies[fol] = \"%.02f (%s)\"%(test_acc_A, max_epochs)"
   ]
  },
  {
   "cell_type": "code",
   "execution_count": 22,
   "metadata": {},
   "outputs": [
    {
     "name": "stdout",
     "output_type": "stream",
     "text": [
      "______________________________________________\n",
      "|Arch                           | Acc (Epoch)|\n",
      "______________________________________________\n",
      "\n",
      "|style_training_1_contrastive_lift_the_flap | 0.48 (N/A) |\n",
      "|style_training_1_lift_the_flap | 0.47 (N/A) |\n",
      "|style_training_2_contrastive_lift_the_flap | 0.46 (N/A) |\n",
      "|style_training_2_lift_the_flap | 0.45 (N/A) |\n",
      "|style_training_4_contrastive_lift_the_flap | 0.46 (N/A) |\n",
      "|style_training_4_lift_the_flap | 0.43 (N/A) |\n",
      "|style_training_8_contrastive_lift_the_flap | 0.46 (N/A) |\n",
      "|style_training_8_lift_the_flap | 0.50 (N/A) |\n",
      "______________________________________________\n"
     ]
    }
   ],
   "source": [
    "dict_to_table(test_domain_A_accuracies)"
   ]
  },
  {
   "cell_type": "code",
   "execution_count": 23,
   "metadata": {},
   "outputs": [],
   "source": [
    "test_domain_B_accuracies = {}\n",
    "for fol in sorted(flap_exp_folders):\n",
    "    test_acc_B, max_epochs = exp_accuracy(fol, 'test_domain_B', 20)\n",
    "    test_domain_B_accuracies[fol] = \"%.02f (%s)\"%(test_acc_B, max_epochs)"
   ]
  },
  {
   "cell_type": "code",
   "execution_count": 24,
   "metadata": {},
   "outputs": [
    {
     "name": "stdout",
     "output_type": "stream",
     "text": [
      "______________________________________________\n",
      "|Arch                           | Acc (Epoch)|\n",
      "______________________________________________\n",
      "\n",
      "|style_training_1_contrastive_lift_the_flap | 0.21 (N/A) |\n",
      "|style_training_1_lift_the_flap | 0.19 (N/A) |\n",
      "|style_training_2_contrastive_lift_the_flap | 0.21 (N/A) |\n",
      "|style_training_2_lift_the_flap | 0.20 (N/A) |\n",
      "|style_training_4_contrastive_lift_the_flap | 0.24 (N/A) |\n",
      "|style_training_4_lift_the_flap | 0.20 (N/A) |\n",
      "|style_training_8_contrastive_lift_the_flap | 0.24 (N/A) |\n",
      "|style_training_8_lift_the_flap | 0.27 (N/A) |\n",
      "______________________________________________\n"
     ]
    }
   ],
   "source": [
    "dict_to_table(test_domain_B_accuracies)"
   ]
  },
  {
   "cell_type": "markdown",
   "metadata": {},
   "source": [
    "### Test on real data"
   ]
  },
  {
   "cell_type": "code",
   "execution_count": 25,
   "metadata": {},
   "outputs": [],
   "source": [
    "test_real_accuracies = {}\n",
    "for fol in sorted(flap_exp_folders):\n",
    "    test_acc, max_epochs = exp_accuracy(fol, 'test_real', 20)\n",
    "    test_real_accuracies[fol] = \"%.02f (%s)\"%(test_acc, max_epochs)"
   ]
  },
  {
   "cell_type": "code",
   "execution_count": 26,
   "metadata": {},
   "outputs": [
    {
     "name": "stdout",
     "output_type": "stream",
     "text": [
      "______________________________________________\n",
      "|Arch                           | Acc (Epoch)|\n",
      "______________________________________________\n",
      "\n",
      "|style_training_1_contrastive_lift_the_flap | 0.01 (N/A) |\n",
      "|style_training_1_lift_the_flap | 0.01 (N/A) |\n",
      "|style_training_2_contrastive_lift_the_flap | 0.02 (N/A) |\n",
      "|style_training_2_lift_the_flap | 0.01 (N/A) |\n",
      "|style_training_4_contrastive_lift_the_flap | 0.01 (N/A) |\n",
      "|style_training_4_lift_the_flap | 0.01 (N/A) |\n",
      "|style_training_8_contrastive_lift_the_flap | 0.01 (N/A) |\n",
      "|style_training_8_lift_the_flap | 0.01 (N/A) |\n",
      "______________________________________________\n"
     ]
    }
   ],
   "source": [
    "dict_to_table(test_real_accuracies)"
   ]
  },
  {
   "cell_type": "markdown",
   "metadata": {},
   "source": [
    "### Test on scannet style version of Domain A"
   ]
  },
  {
   "cell_type": "code",
   "execution_count": 27,
   "metadata": {},
   "outputs": [],
   "source": [
    "test_scannet_domain_A = {}\n",
    "for fol in sorted(flap_exp_folders):\n",
    "    test_acc, max_epochs = exp_accuracy(fol, 'test_scannet_style', 20)\n",
    "    test_scannet_domain_A[fol] = \"%.02f (%s)\"%(test_acc, max_epochs)"
   ]
  },
  {
   "cell_type": "code",
   "execution_count": 28,
   "metadata": {},
   "outputs": [
    {
     "name": "stdout",
     "output_type": "stream",
     "text": [
      "______________________________________________\n",
      "|Arch                           | Acc (Epoch)|\n",
      "______________________________________________\n",
      "\n",
      "|style_training_1_contrastive_lift_the_flap | 0.12 (N/A) |\n",
      "|style_training_1_lift_the_flap | 0.11 (N/A) |\n",
      "|style_training_2_contrastive_lift_the_flap | 0.23 (N/A) |\n",
      "|style_training_2_lift_the_flap | 0.18 (N/A) |\n",
      "|style_training_4_contrastive_lift_the_flap | 0.30 (N/A) |\n",
      "|style_training_4_lift_the_flap | 0.24 (N/A) |\n",
      "|style_training_8_contrastive_lift_the_flap | 0.35 (N/A) |\n",
      "|style_training_8_lift_the_flap | 0.37 (N/A) |\n",
      "______________________________________________\n"
     ]
    }
   ],
   "source": [
    "dict_to_table(test_scannet_domain_A)"
   ]
  },
  {
   "cell_type": "markdown",
   "metadata": {},
   "source": [
    "### Test on scannet style version of Domain B"
   ]
  },
  {
   "cell_type": "code",
   "execution_count": 6,
   "metadata": {},
   "outputs": [],
   "source": [
    "test_scannet_domain_B = {}\n",
    "for fol in sorted(flap_exp_folders):\n",
    "    test_acc, max_epochs = exp_accuracy(fol, 'test_scannet_style_B', 20)\n",
    "    test_scannet_domain_B[fol] = \"%.02f (%s)\"%(test_acc, max_epochs)"
   ]
  },
  {
   "cell_type": "code",
   "execution_count": 7,
   "metadata": {},
   "outputs": [
    {
     "name": "stdout",
     "output_type": "stream",
     "text": [
      "______________________________________________\n",
      "|Arch                           | Acc (Epoch)|\n",
      "______________________________________________\n",
      "\n",
      "|style_training_1_contrastive_lift_the_flap | 0.09 (N/A) |\n",
      "|style_training_1_lift_the_flap | 0.09 (N/A) |\n",
      "|style_training_2_contrastive_lift_the_flap | 0.15 (N/A) |\n",
      "|style_training_2_lift_the_flap | 0.12 (N/A) |\n",
      "|style_training_4_contrastive_lift_the_flap | 0.18 (N/A) |\n",
      "|style_training_4_lift_the_flap | 0.14 (N/A) |\n",
      "|style_training_8_contrastive_lift_the_flap | 0.22 (N/A) |\n",
      "|style_training_8_lift_the_flap | 0.25 (N/A) |\n",
      "______________________________________________\n"
     ]
    }
   ],
   "source": [
    "dict_to_table(test_scannet_domain_B)"
   ]
  }
 ],
 "metadata": {
  "kernelspec": {
   "display_name": "Python 3 (ipykernel)",
   "language": "python",
   "name": "python3"
  },
  "language_info": {
   "codemirror_mode": {
    "name": "ipython",
    "version": 3
   },
   "file_extension": ".py",
   "mimetype": "text/x-python",
   "name": "python",
   "nbconvert_exporter": "python",
   "pygments_lexer": "ipython3",
   "version": "3.10.12"
  }
 },
 "nbformat": 4,
 "nbformat_minor": 4
}
