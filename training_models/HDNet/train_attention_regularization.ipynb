{
 "cells": [
  {
   "cell_type": "code",
   "execution_count": 1,
   "metadata": {},
   "outputs": [],
   "source": [
    "import os\n",
    "import warnings\n",
    "import argparse\n",
    "import datetime\n",
    "import pathlib\n",
    "import sys\n",
    "\n",
    "import torch\n",
    "import torch.nn as nn\n",
    "from torch.utils.data import DataLoader\n",
    "from torch.utils.tensorboard import SummaryWriter\n",
    "\n",
    "from tqdm import tqdm\n",
    "import pickle\n",
    "\n",
    "from test import test\n",
    "from utils.evaluate_uncertainty import evaluate_uncertainty\n",
    "from core.config import create_config, save_config\n",
    "# from core.dataset import COCODataset\n",
    "from core.dataset_hotswapped import COCODataset\n",
    "from core.model import Model\n",
    "from core.metrics import AccuracyLogger\n",
    "import pickle\n",
    "from SupContrast.losses import SupConLoss\n",
    "import torch.nn.functional as F\n",
    "## Initialization"
   ]
  },
  {
   "cell_type": "code",
   "execution_count": null,
   "metadata": {},
   "outputs": [],
   "source": []
  },
  {
   "cell_type": "code",
   "execution_count": 2,
   "metadata": {},
   "outputs": [],
   "source": [
    "import matplotlib.pyplot as plt"
   ]
  },
  {
   "cell_type": "code",
   "execution_count": 3,
   "metadata": {},
   "outputs": [
    {
     "name": "stdout",
     "output_type": "stream",
     "text": [
      "Hard mining set to:none\n"
     ]
    }
   ],
   "source": [
    "with open('args_hotswapped.p','rb') as File:\n",
    "    args = pickle.load(File)\n",
    "args.batch_size = 15\n",
    "print('Hard mining set to:%s'%(args.hard_mining))"
   ]
  },
  {
   "cell_type": "code",
   "execution_count": 4,
   "metadata": {},
   "outputs": [
    {
     "name": "stdout",
     "output_type": "stream",
     "text": [
      "Using materials: ['main_xml1_arbitrary_many_styles_repeat_0', 'main_xml1_arbitrary_many_styles_repeat_1', 'main_xml1_arbitrary_many_styles_repeat_2', 'main_xml1_arbitrary_many_styles_repeat_3', 'main_xml1_arbitrary_many_styles_repeat_4', 'main_xml1_arbitrary_many_styles_repeat_5', 'main_xml1_arbitrary_many_styles_repeat_6', 'main_xml1_arbitrary_many_styles_repeat_7']\n",
      "Hotswapped material loader being used.\n",
      "{1: 0, 2: 1, 3: 2, 4: 3, 5: 4, 6: 5, 7: 6, 8: 7, 9: 8, 10: 9, 11: 10, 12: 11, 13: 12, 14: 13, 15: 14, 16: 15, 17: 16, 18: 17, 19: 18, 20: 19, 21: 20, 22: 21, 23: 22, 24: 23, 25: 24, 26: 25, 27: 26, 28: 27, 29: 28, 30: 29, 31: 30, 32: 31, 33: 32, 34: 33, 35: 34, 36: 35, 37: 36, 38: 37, 39: 38, 40: 39, 41: 40, 42: 41, 43: 42, 44: 43, 45: 44}\n",
      "-------------------------------\n",
      "Annotation Counts\n",
      "-------------------------------\n",
      "chair                     33800\n",
      "cabinet                    9557\n",
      "bathtub                    5745\n",
      "desk                       8890\n",
      "bookshelf                  6076\n",
      "file_cabinet               2130\n",
      "window                    39542\n",
      "door                       8146\n",
      "bed                        3219\n",
      "table                     19147\n",
      "lamp                       2519\n",
      "trash_bin                  3709\n",
      "bag                        1175\n",
      "sofa                       5765\n",
      "washing_machine             255\n",
      "basket                     1034\n",
      "dishwasher                  149\n",
      "monitor                    4164\n",
      "printer                     619\n",
      "laptop                      284\n",
      "microwave                   338\n",
      "telephone                    10\n",
      "computer_keyboard           231\n",
      "bench                       384\n",
      "counter                     229\n",
      "bowl                         16\n",
      "stove                       175\n",
      "faucet                       73\n",
      "flowerpot                  1650\n",
      "piano                       191\n",
      "clock                        27\n",
      "guitar                        2\n",
      "speaker                       7\n",
      "pillow                        3\n",
      "pool_table                   40\n",
      "can                           4\n",
      "jar                           5\n",
      "bottle                        7\n",
      "cap                           7\n",
      "Total                    159324\n",
      "-------------------------------\n",
      "\n"
     ]
    },
    {
     "name": "stderr",
     "output_type": "stream",
     "text": [
      "/n/home05/smadan/.conda/envs/domain_adaptation/lib/python3.8/site-packages/torch/utils/data/dataloader.py:478: UserWarning: This DataLoader will create 4 worker processes in total. Our suggested max number of worker in current system is 1, which is smaller than what this DataLoader is going to create. Please be aware that excessive worker creation might get DataLoader running slow or even freeze, lower the worker number to avoid potential slowness/freeze if necessary.\n",
      "  warnings.warn(_create_warning_msg(\n"
     ]
    }
   ],
   "source": [
    "cfg = create_config(args)\n",
    "\n",
    "arbitrary_material_fols = sorted([i for i in os.listdir('../openrooms/') if 'arbitrary' in i])\n",
    "# new_materials = arbitrary_material_fols[:args.num_materials]\n",
    "material_fols = [i for i in arbitrary_material_fols if 'repeat' in i]\n",
    "#  = []\n",
    "print('Using materials: %s'%material_fols)\n",
    "\n",
    "# dataset = COCODataset(cfg.annotations, cfg.imagedir, (224,224), material_fols, normalize_means=[0.485, 0.456, 0.406], normalize_stds=[0.229, 0.224, 0.225])\n",
    "dataset = COCODataset(cfg.annotations, cfg.imagedir, (224,224), material_fols)\n",
    "dataloader = DataLoader(dataset, batch_size=4, num_workers=4, shuffle=True, pin_memory=True, drop_last=True)"
   ]
  },
  {
   "cell_type": "code",
   "execution_count": 10,
   "metadata": {},
   "outputs": [],
   "source": [
    "# for d in dataset[:5]:\n",
    "#     print(d)"
   ]
  },
  {
   "cell_type": "code",
   "execution_count": 5,
   "metadata": {},
   "outputs": [
    {
     "ename": "TypeError",
     "evalue": "'DataLoader' object is not subscriptable",
     "output_type": "error",
     "traceback": [
      "\u001b[0;31m---------------------------------------------------------------------------\u001b[0m",
      "\u001b[0;31mTypeError\u001b[0m                                 Traceback (most recent call last)",
      "\u001b[0;32m/tmp/ipykernel_23337/2305303745.py\u001b[0m in \u001b[0;36m<module>\u001b[0;34m\u001b[0m\n\u001b[0;32m----> 1\u001b[0;31m \u001b[0;32mfor\u001b[0m \u001b[0mdata\u001b[0m \u001b[0;32min\u001b[0m \u001b[0mdataloader\u001b[0m\u001b[0;34m[\u001b[0m\u001b[0;34m:\u001b[0m\u001b[0;36m5\u001b[0m\u001b[0;34m]\u001b[0m\u001b[0;34m:\u001b[0m\u001b[0;34m\u001b[0m\u001b[0;34m\u001b[0m\u001b[0m\n\u001b[0m\u001b[1;32m      2\u001b[0m     \u001b[0;32mbreak\u001b[0m\u001b[0;34m\u001b[0m\u001b[0;34m\u001b[0m\u001b[0m\n",
      "\u001b[0;31mTypeError\u001b[0m: 'DataLoader' object is not subscriptable"
     ]
    }
   ],
   "source": [
    "for data in dataloader[:5]:\n",
    "    break"
   ]
  },
  {
   "cell_type": "code",
   "execution_count": 5,
   "metadata": {},
   "outputs": [
    {
     "name": "stdout",
     "output_type": "stream",
     "text": [
      "annotations: ../openrooms/annotation_files/main_xml1_paired_segregated_train.json\n",
      "batch_size: 15\n",
      "checkpoint: output_openrooms/style_training_8/checkpoint_7.tar\n",
      "git: 7b079d31dd8717a1abda8002b5f9656d82a5055c\n",
      "imagedir: ../openrooms/\n",
      "imbalance_reweighting: false\n",
      "learning_rate: 1.0e-05\n",
      "num_classes: 45\n",
      "num_decoder_heads: 8\n",
      "num_decoder_layers: 6\n",
      "test_annotations: null\n",
      "test_imagedir: null\n",
      "uncertainty_gate_type: learned\n",
      "uncertainty_threshold: 0.8\n",
      "weighted_prediction: false\n",
      "\n"
     ]
    }
   ],
   "source": [
    "NUM_CLASSES = dataset.NUM_CLASSES\n",
    "cfg.num_classes = NUM_CLASSES\n",
    "save_config(cfg, args.outdir)\n",
    "print(cfg)\n",
    "\n",
    "model = Model.from_config(cfg)\n",
    "\n",
    "#if torch.cuda.device_count() > 1:\n",
    "#    model = nn.DataParallel(model)\n",
    "\n",
    "#assert(model.TARGET_IMAGE_SIZE == model.CONTEXT_IMAGE_SIZE == dataset.image_size), \"Image size from the dataset is not compatible with the encoder.\"\n",
    "\n",
    "device = torch.device(\"cuda:0\" if torch.cuda.is_available() else \"cpu\")\n",
    "\n",
    "optimizer = torch.optim.Adam(model.parameters(), lr=cfg.learning_rate)\n",
    "\n"
   ]
  },
  {
   "cell_type": "code",
   "execution_count": 6,
   "metadata": {},
   "outputs": [],
   "source": [
    "if cfg.imbalance_reweighting:\n",
    "    class_weights = torch.true_divide(dataset.relative_annotation_counts.max(), dataset.relative_annotation_counts)\n",
    "    criterion = nn.CrossEntropyLoss(weight= class_weights.to(device))\n",
    "else:\n",
    "    criterion = nn.CrossEntropyLoss()\n",
    "\n",
    "criterion_2 = SupConLoss(temperature=0.1)\n",
    "criterion_3 = torch.nn.MSELoss()"
   ]
  },
  {
   "cell_type": "code",
   "execution_count": 7,
   "metadata": {},
   "outputs": [],
   "source": [
    "for i, (context_images, target_images, context_images_2, target_images_2, bbox, labels_cpu) in enumerate(dataloader):\n",
    "    labels = labels_cpu\n",
    "    context_images_all = torch.cat([context_images, context_images_2], dim=0)\n",
    "    target_images_all = torch.cat([target_images, target_images_2], dim=0)\n",
    "    bbox_all = torch.cat([bbox, bbox], dim=0)\n",
    "    labels_all = torch.cat([labels, labels], dim=0)\n",
    "    labels_all_cpu = torch.cat([labels_cpu, labels_cpu], dim=0)\n",
    "\n",
    "    output_uncertainty_branch , output_main_branch, output_weighted, uncertainty = model(context_images_all, target_images_all, bbox_all)\n",
    "    break"
   ]
  },
  {
   "cell_type": "code",
   "execution_count": 8,
   "metadata": {},
   "outputs": [
    {
     "data": {
      "text/plain": [
       "torch.Size([8, 45])"
      ]
     },
     "execution_count": 8,
     "metadata": {},
     "output_type": "execute_result"
    }
   ],
   "source": [
    "output_main_branch"
   ]
  },
  {
   "cell_type": "code",
   "execution_count": null,
   "metadata": {},
   "outputs": [],
   "source": []
  }
 ],
 "metadata": {
  "kernelspec": {
   "display_name": "domain_adaptation",
   "language": "python",
   "name": "domain_adaptation"
  },
  "language_info": {
   "codemirror_mode": {
    "name": "ipython",
    "version": 3
   },
   "file_extension": ".py",
   "mimetype": "text/x-python",
   "name": "python",
   "nbconvert_exporter": "python",
   "pygments_lexer": "ipython3",
   "version": "3.8.11"
  }
 },
 "nbformat": 4,
 "nbformat_minor": 4
}
