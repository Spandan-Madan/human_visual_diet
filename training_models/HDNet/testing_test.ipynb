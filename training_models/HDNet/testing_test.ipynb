{
 "cells": [
  {
   "cell_type": "code",
   "execution_count": 1,
   "metadata": {},
   "outputs": [],
   "source": [
    "import argparse\n",
    "import datetime\n",
    "import pathlib\n",
    "import json\n",
    "import yaml\n",
    "\n",
    "import torch\n",
    "import torch.nn as nn\n",
    "from torch.utils.data import DataLoader\n",
    "\n",
    "from tqdm import tqdm\n",
    "from ml_collections import ConfigDict\n",
    "\n",
    "from core.dataset import COCODatasetWithID\n",
    "from core.config import save_config\n",
    "from core.model import Model\n",
    "from core.metrics import AccuracyLogger, IndividualScoreLogger"
   ]
  },
  {
   "cell_type": "code",
   "execution_count": 2,
   "metadata": {},
   "outputs": [],
   "source": [
    "import pickle"
   ]
  },
  {
   "cell_type": "code",
   "execution_count": 9,
   "metadata": {},
   "outputs": [],
   "source": [
    "with open('args_test.p','rb') as F:\n",
    "    args = pickle.load(F)"
   ]
  },
  {
   "cell_type": "code",
   "execution_count": 89,
   "metadata": {},
   "outputs": [],
   "source": [
    "args.annotations = '../openrooms/annotation_files/scannet_handmade_cleaned_test_set_4_categories_redone.json'"
   ]
  },
  {
   "cell_type": "code",
   "execution_count": 90,
   "metadata": {},
   "outputs": [
    {
     "data": {
      "text/plain": [
       "'../openrooms/annotation_files/scannet_handmade_cleaned_test_set_4_categories_redone.json'"
      ]
     },
     "execution_count": 90,
     "metadata": {},
     "output_type": "execute_result"
    }
   ],
   "source": [
    "args.annotations"
   ]
  },
  {
   "cell_type": "code",
   "execution_count": 91,
   "metadata": {},
   "outputs": [
    {
     "data": {
      "text/plain": [
       "'config.yaml'"
      ]
     },
     "execution_count": 91,
     "metadata": {},
     "output_type": "execute_result"
    }
   ],
   "source": [
    "args.config"
   ]
  },
  {
   "cell_type": "code",
   "execution_count": 92,
   "metadata": {},
   "outputs": [],
   "source": [
    "import os"
   ]
  },
  {
   "cell_type": "code",
   "execution_count": 93,
   "metadata": {},
   "outputs": [],
   "source": [
    "# with open('args_test.p','wb') as F:\n",
    "#     pickle.dump(args, F)\n",
    "assert(args.checkpoint is not None), \"A checkpoint needs to be specified via commandline argument (--checkpoint)\"\n",
    "assert(args.config is not None), \"A config needs to be specified via commandline argument (--config)\"\n",
    "\n",
    "with open(os.path.join(args.outdir,args.config)) as f:\n",
    "    cfg = ConfigDict(yaml.load(f, Loader=yaml.Loader))\n",
    "\n",
    "cfg.checkpoint = args.checkpoint\n",
    "\n",
    "if args.annotations is not None:\n",
    "    cfg.test_annotations = args.annotations\n",
    "if args.imagedir is not None:\n",
    "    cfg.test_imagedir = args.imagedir\n",
    "if args.uncertainty_threshold is not None:\n",
    "    cfg.uncertainty_threshold = args.uncertainty_threshold\n",
    "if args.uncertainty_gate_type is not None:\n",
    "    cfg.uncertainty_gate_type = args.uncertainty_gate_type\n",
    "if args.weighted_prediction is not None:\n",
    "    cfg.weighted_prediction = args.weighted_prediction\n",
    "\n",
    "assert(cfg.test_annotations is not None), \"Annotations need to be specified either via commandline argument (--annotations) or config (test_annotations).\"\n",
    "assert(cfg.test_imagedir is not None), \"Imagedir needs to be specified either via commandline argument (--imagedir) or config (test_imagedir).\"\n",
    "\n",
    "if not hasattr(cfg, \"num_classes\"): # infer number of classes\n",
    "    with open(cfg.annotations) as f:\n",
    "        NUM_CLASSES = len(json.load(f)[\"categories\"])\n",
    "    cfg.num_classes = NUM_CLASSES"
   ]
  },
  {
   "cell_type": "code",
   "execution_count": 94,
   "metadata": {},
   "outputs": [
    {
     "name": "stdout",
     "output_type": "stream",
     "text": [
      "annotations: ../openrooms/annotation_files/handmade_and_train_4_categories_main_xml_50_v3_.json\n",
      "batch_size: 15\n",
      "blur_context: 0\n",
      "blur_target: 0\n",
      "checkpoint: checkpoint_50.tar\n",
      "cnn_baseline: false\n",
      "git: 2179780af36e53218cf9f25623959fb36ae2379d\n",
      "imagedir: ../\n",
      "imbalance_reweighting: false\n",
      "learning_rate: 1.0e-05\n",
      "num_classes: 4\n",
      "num_decoder_heads: 8\n",
      "num_decoder_layers: 6\n",
      "pretrained: false\n",
      "test_annotations: ../openrooms/annotation_files/scannet_handmade_cleaned_test_set_4_categories_redone.json\n",
      "test_imagedir: ../\n",
      "uncertainty_gate_type: learned\n",
      "uncertainty_threshold: 0.8\n",
      "vit_baseline: false\n",
      "weighted_prediction: true\n",
      "\n",
      "Initializing model from checkpoint checkpoint_50.tar\n",
      "Not using pretrained features for encoder.\n"
     ]
    },
    {
     "name": "stderr",
     "output_type": "stream",
     "text": [
      "/n/home05/smadan/.conda/envs/domain_adaptation/lib/python3.8/site-packages/torchvision/models/_utils.py:208: UserWarning: The parameter 'pretrained' is deprecated since 0.13 and may be removed in the future, please use 'weights' instead.\n",
      "  warnings.warn(\n",
      "/n/home05/smadan/.conda/envs/domain_adaptation/lib/python3.8/site-packages/torchvision/models/_utils.py:223: UserWarning: Arguments other than a weight enum or `None` for 'weights' are deprecated since 0.13 and may be removed in the future. The current behavior is equivalent to passing `weights=None`.\n",
      "  warnings.warn(msg)\n"
     ]
    },
    {
     "name": "stdout",
     "output_type": "stream",
     "text": [
      "Not using pretrained features for encoder.\n"
     ]
    }
   ],
   "source": [
    "pathlib.Path(args.outdir).mkdir(exist_ok=True, parents=True)\n",
    "save_config(cfg, args.outdir)\n",
    "print(cfg)\n",
    "\n",
    "print(\"Initializing model from checkpoint {}\".format(args.checkpoint))\n",
    "checkpoint = torch.load(os.path.join(args.outdir,args.checkpoint), map_location=\"cpu\")\n",
    "model = Model.from_config(cfg)\n",
    "missing_keys, unexpected_keys = model.load_state_dict(checkpoint['model_state_dict'], strict=False)\n",
    "\n"
   ]
  },
  {
   "cell_type": "code",
   "execution_count": 95,
   "metadata": {},
   "outputs": [],
   "source": [
    "device = torch.device(\"cuda:0\" if torch.cuda.is_available() else \"cpu\")\n",
    "model.to(device);"
   ]
  },
  {
   "cell_type": "code",
   "execution_count": 96,
   "metadata": {},
   "outputs": [],
   "source": [
    "annotations_file = cfg.test_annotations\n",
    "imagedir = cfg.imagedir"
   ]
  },
  {
   "cell_type": "code",
   "execution_count": 97,
   "metadata": {},
   "outputs": [
    {
     "name": "stdout",
     "output_type": "stream",
     "text": [
      "-------------------------------\n",
      "Annotation Counts\n",
      "-------------------------------\n",
      "chair                       163\n",
      "table                        56\n",
      "sofa                         53\n",
      "desk                          6\n",
      "Total                       278\n",
      "-------------------------------\n",
      "\n"
     ]
    }
   ],
   "source": [
    "testset = COCODatasetWithID(annotations_file, imagedir, (224,224), normalize_means=[0.485, 0.456, 0.406], normalize_stds=[0.229, 0.224, 0.225])\n",
    "dataloader = DataLoader(testset, batch_size=10, num_workers=1, shuffle=True, drop_last=False)"
   ]
  },
  {
   "cell_type": "code",
   "execution_count": 98,
   "metadata": {},
   "outputs": [
    {
     "name": "stderr",
     "output_type": "stream",
     "text": [
      "Test Batches:   0%|          | 0/28 [00:01<?, ?it/s]\n"
     ]
    }
   ],
   "source": [
    "with torch.no_grad():\n",
    "    for i, (context_images, target_images, bbox, labels_cpu, annotation_ids) in enumerate(tqdm(dataloader, desc=\"Test Batches\", leave=True)):\n",
    "        context_images = context_images.to(device)\n",
    "        target_images = target_images.to(device)\n",
    "        bbox = bbox.to(device)\n",
    "        labels = labels_cpu.to(device) # keep a copy of labels on cpu to avoid unnecessary transfer back to cpu later\n",
    "        break"
   ]
  },
  {
   "cell_type": "code",
   "execution_count": 99,
   "metadata": {},
   "outputs": [],
   "source": [
    "import matplotlib.pyplot as plt"
   ]
  },
  {
   "cell_type": "code",
   "execution_count": 100,
   "metadata": {},
   "outputs": [],
   "source": [
    "%matplotlib inline"
   ]
  },
  {
   "cell_type": "code",
   "execution_count": 101,
   "metadata": {},
   "outputs": [
    {
     "name": "stderr",
     "output_type": "stream",
     "text": [
      "Clipping input data to the valid range for imshow with RGB data ([0..1] for floats or [0..255] for integers).\n"
     ]
    },
    {
     "data": {
      "image/png": "[encoded data removed]",
      "text/plain": [
       "<Figure size 432x288 with 1 Axes>"
      ]
     },
     "metadata": {
      "needs_background": "light"
     },
     "output_type": "display_data"
    }
   ],
   "source": [
    "plt.imshow(context_images[7].detach().permute(1,2,0))\n",
    "plt.show()"
   ]
  },
  {
   "cell_type": "code",
   "execution_count": 102,
   "metadata": {},
   "outputs": [
    {
     "name": "stderr",
     "output_type": "stream",
     "text": [
      "Clipping input data to the valid range for imshow with RGB data ([0..1] for floats or [0..255] for integers).\n"
     ]
    },
    {
     "data": {
      "image/png": "[encoded data removed]",
      "text/plain": [
       "<Figure size 432x288 with 1 Axes>"
      ]
     },
     "metadata": {
      "needs_background": "light"
     },
     "output_type": "display_data"
    }
   ],
   "source": [
    "plt.imshow(target_images[7].detach().permute(1,2,0))\n",
    "plt.show()"
   ]
  },
  {
   "cell_type": "code",
   "execution_count": 26,
   "metadata": {},
   "outputs": [],
   "source": [
    "# def test(model, annotations_file, imagedir, outdir, outname=\"test\", epoch=None, record_individual_scores=False, print_batch_metrics=False):\n",
    "#     \"\"\"\n",
    "#     Arguments:\n",
    "#         epoch: If specified, it is used to include the epoch in the output file name.\n",
    "#     \"\"\"\n",
    "    \n",
    "\n",
    "    \n",
    "#     testset = COCODatasetWithID(annotations_file, imagedir, (224,224), ['main_xml1'], normalize_means=[0.485, 0.456, 0.406], normalize_stds=[0.229, 0.224, 0.225])\n",
    "#     dataloader = DataLoader(testset, batch_size=1, num_workers=1, shuffle=False, drop_last=False)\n",
    "\n",
    "#     if print_batch_metrics:\n",
    "#         criterion = nn.CrossEntropyLoss()\n",
    "\n",
    "#     test_accuracy = AccuracyLogger(testset.idx2label)\n",
    "\n",
    "#     if record_individual_scores:\n",
    "#         individual_scores = IndividualScoreLogger(testset.idx2label)\n",
    "    \n",
    "#     model.eval() # set eval mode\n",
    "#     with torch.no_grad():\n",
    "#         for i, (context_images, target_images, bbox, labels_cpu, annotation_ids) in enumerate(tqdm(dataloader, desc=\"Test Batches\", leave=True)):\n",
    "#             context_images = context_images.to(device)\n",
    "#             target_images = target_images.to(device)\n",
    "#             bbox = bbox.to(device)\n",
    "#             labels = labels_cpu.to(device) # keep a copy of labels on cpu to avoid unnecessary transfer back to cpu later\n",
    "\n",
    "#             output = model(context_images, target_images, bbox) # output is (batchsize, num_classes) tensor of logits\n",
    "#             _, predictions = torch.max(output.detach().to(\"cpu\"), 1) # choose idx with maximum score as prediction\n",
    "#             test_accuracy.update(predictions, labels_cpu)\n",
    "\n",
    "#             if record_individual_scores:\n",
    "#                 individual_scores.update(predictions.to(\"cpu\"), labels_cpu, annotation_ids)\n",
    "\n",
    "#             # print\n",
    "#             if print_batch_metrics:\n",
    "#                 batch_loss = criterion(output, labels).item()\n",
    "#                 batch_corr = sum(predictions == labels_cpu) # number of correct predictions\n",
    "#                 batch_accuracy = batch_corr # / batch_size # since batchsize is 1\n",
    "\n",
    "#                 print(\"\\t Test Batch {}: \\t Loss: {} \\t Accuracy: {}\".format(i, batch_loss, batch_accuracy))\n",
    "        \n",
    "#     print(\"\\nTotal Test Accuracy: {}\".format(test_accuracy.accuracy()))\n",
    "#     print(\"{0:20} {1:10}\".format(\"Class\", \"Accuracy\")) # header\n",
    "#     for name, acc in test_accuracy.named_class_accuarcies().items():\n",
    "#         print(\"{0:20} {1:10.4f}\".format(name, acc))\n",
    "\n",
    "#     # save accuracies\n",
    "#     if epoch is not None:\n",
    "#         test_accuracy.save(outdir, name=\"{}_accuracies_epoch_{}\".format(outname, epoch))\n",
    "#     else:\n",
    "#         test_accuracy.save(outdir, name=\"{}_accuracies\".format(outname))\n",
    "\n",
    "#     if record_individual_scores:\n",
    "#         individual_scores.save(outdir, name=\"{}_individual_scores\".format(outname))\n",
    "\n",
    "#     return test_accuracy"
   ]
  },
  {
   "cell_type": "code",
   "execution_count": 27,
   "metadata": {},
   "outputs": [],
   "source": [
    "# pathlib.Path(args.outdir).mkdir(exist_ok=True, parents=True)\n",
    "# save_config(cfg, args.outdir)\n",
    "# print(cfg)\n",
    "\n",
    "# print(\"Initializing model from checkpoint {}\".format(args.checkpoint))\n",
    "# checkpoint = torch.load(args.checkpoint, map_location=\"cpu\")\n",
    "# model = Model.from_config(cfg)\n",
    "# missing_keys, unexpected_keys = model.load_state_dict(checkpoint['model_state_dict'], strict=False)\n",
    "\n",
    "# assert not missing_keys, \"Checkpoint is missing keys required to initialize the model: {}\".format(missing_keys)\n",
    "# if len(unexpected_keys):\n",
    "#     print(\"Checkpoint contains unexpected keys that were not used to initialize the model: \")\n",
    "#     print(unexpected_keys)\n",
    "\n",
    "# model.to(torch.device(\"cuda:0\" if torch.cuda.is_available() else \"cpu\"))\n",
    "\n",
    "# test(model, cfg.test_annotations, cfg.test_imagedir, args.outdir, outname=args.outname, record_individual_scores=args.record_individual_scores , print_batch_metrics=args.print_batch_metrics)"
   ]
  },
  {
   "cell_type": "code",
   "execution_count": null,
   "metadata": {},
   "outputs": [],
   "source": []
  }
 ],
 "metadata": {
  "kernelspec": {
   "display_name": "domain_adaptation",
   "language": "python",
   "name": "domain_adaptation"
  },
  "language_info": {
   "codemirror_mode": {
    "name": "ipython",
    "version": 3
   },
   "file_extension": ".py",
   "mimetype": "text/x-python",
   "name": "python",
   "nbconvert_exporter": "python",
   "pygments_lexer": "ipython3",
   "version": "3.8.11"
  }
 },
 "nbformat": 4,
 "nbformat_minor": 4
}
