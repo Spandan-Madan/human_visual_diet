{
 "cells": [
  {
   "cell_type": "code",
   "execution_count": 1,
   "metadata": {},
   "outputs": [],
   "source": [
    "import json"
   ]
  },
  {
   "cell_type": "code",
   "execution_count": 2,
   "metadata": {},
   "outputs": [],
   "source": [
    "import os\n",
    "from tqdm import tqdm"
   ]
  },
  {
   "cell_type": "code",
   "execution_count": 3,
   "metadata": {},
   "outputs": [],
   "source": [
    "train_annotation_file = '../openrooms/annotation_files/train_main_xml_50_v3.json'"
   ]
  },
  {
   "cell_type": "code",
   "execution_count": 4,
   "metadata": {},
   "outputs": [],
   "source": [
    "with open(train_annotation_file,'r') as F:\n",
    "    train_annotation = json.load(F)"
   ]
  },
  {
   "cell_type": "code",
   "execution_count": 5,
   "metadata": {},
   "outputs": [],
   "source": [
    "deformed_geometry_annotations = {}\n",
    "deformed_geometry_annotations['annotations'] = train_annotation['annotations']\n",
    "deformed_geometry_annotations['categories'] = train_annotation['categories']"
   ]
  },
  {
   "cell_type": "code",
   "execution_count": 6,
   "metadata": {},
   "outputs": [],
   "source": [
    "images = train_annotation['images']"
   ]
  },
  {
   "cell_type": "code",
   "execution_count": 28,
   "metadata": {},
   "outputs": [
    {
     "name": "stderr",
     "output_type": "stream",
     "text": [
      "100%|██████████| 15769/15769 [00:01<00:00, 9247.18it/s]\n"
     ]
    }
   ],
   "source": [
    "ct = 0\n",
    "new_images = []\n",
    "for img in tqdm(images):\n",
    "    new_img_dict = {}\n",
    "    new_img_dict['id'] = img['id']\n",
    "    new_img_dict['height'] = img['height']\n",
    "    new_img_dict['width'] = img['width']\n",
    "    old_file_name = img['file_name']\n",
    "    new_file_name = old_file_name.replace('main_xml_50','main_xml_50_deformed').replace('all_openrooms','stylized_all_openrooms')\n",
    "    new_img_dict['file_name'] = new_file_name\n",
    "    if not os.path.isfile(os.path.join('../',new_file_name)):\n",
    "        print(old_file_name)\n",
    "    new_images.append(new_img_dict)"
   ]
  },
  {
   "cell_type": "code",
   "execution_count": 30,
   "metadata": {},
   "outputs": [
    {
     "data": {
      "text/plain": [
       "15769"
      ]
     },
     "execution_count": 30,
     "metadata": {},
     "output_type": "execute_result"
    }
   ],
   "source": [
    "len(new_images)"
   ]
  },
  {
   "cell_type": "code",
   "execution_count": 32,
   "metadata": {},
   "outputs": [
    {
     "data": {
      "text/plain": [
       "15769"
      ]
     },
     "execution_count": 32,
     "metadata": {},
     "output_type": "execute_result"
    }
   ],
   "source": [
    "len(images)"
   ]
  },
  {
   "cell_type": "code",
   "execution_count": 33,
   "metadata": {},
   "outputs": [],
   "source": [
    "deformed_geometry_annotations['images'] = new_images"
   ]
  },
  {
   "cell_type": "code",
   "execution_count": 34,
   "metadata": {},
   "outputs": [],
   "source": [
    "new_annotation_file = '../openrooms/annotation_files/train_main_xml_50_v3_deformed_geometry.json'\n",
    "with open(new_annotation_file,'w') as F:\n",
    "    json.dump(deformed_geometry_annotations, F)"
   ]
  }
 ],
 "metadata": {
  "kernelspec": {
   "display_name": "domain_adaptation",
   "language": "python",
   "name": "domain_adaptation"
  },
  "language_info": {
   "codemirror_mode": {
    "name": "ipython",
    "version": 3
   },
   "file_extension": ".py",
   "mimetype": "text/x-python",
   "name": "python",
   "nbconvert_exporter": "python",
   "pygments_lexer": "ipython3",
   "version": "3.8.11"
  }
 },
 "nbformat": 4,
 "nbformat_minor": 4
}
